{
 "cells": [
  {
   "cell_type": "markdown",
   "metadata": {},
   "source": [
    "# MFCC"
   ]
  },
  {
   "cell_type": "code",
   "execution_count": null,
   "metadata": {
    "id": "W6PjerFRocFu"
   },
   "outputs": [],
   "source": [
    "import numpy as np\n",
    "import librosa, librosa.display\n",
    "import matplotlib.pyplot as plt\n",
    "import json\n",
    "import os\n",
    "import math\n",
    "\n",
    "from sklearn.model_selection import train_test_split\n",
    "import tensorflow.keras as keras\n",
    "\n",
    "import matplotlib.pyplot as plt"
   ]
  },
  {
   "cell_type": "code",
   "execution_count": null,
   "metadata": {},
   "outputs": [],
   "source": [
    "DATASET_PATH = \"sound - robot\"\n",
    "JSON_PATH = \"model_robot/data_sound.json\"\n",
    "SAMPLE_RATE = 16000\n",
    "TRACK_DURATION = 1 # measured in seconds\n",
    "SAMPLES_PER_TRACK = SAMPLE_RATE * TRACK_DURATION"
   ]
  },
  {
   "cell_type": "code",
   "execution_count": null,
   "metadata": {},
   "outputs": [],
   "source": [
    "train_audio_path = r'G:\\Python\\Lenh_dieu_khien\\sound - robot'\n",
    "labels=os.listdir(train_audio_path)"
   ]
  },
  {
   "cell_type": "code",
   "execution_count": null,
   "metadata": {},
   "outputs": [],
   "source": [
    "def save_mfcc(dataset_path, json_path, num_mfcc=13, n_fft=2048, hop_length=512):\n",
    "    \"\"\"Extracts MFCCs from music dataset and saves them into a json file along with genre labels.\n",
    "        \"\"\"\n",
    "\n",
    "    # dictionary to store mapping, labels, and MFCCs\n",
    "    data = {\n",
    "        \"mapping\": [],\n",
    "        \"labels\": [],\n",
    "        \"mfcc\": []\n",
    "    }\n",
    "\n",
    "    samples_per_segment = int(SAMPLES_PER_TRACK)\n",
    "    num_mfcc_vectors_per_segment = math.ceil(samples_per_segment / hop_length)\n",
    "\n",
    "    for i, (dirpath, dirnames, filenames) in enumerate(os.walk(dataset_path)):\n",
    "\n",
    "        if dirpath is not dataset_path:\n",
    "\n",
    "            semantic_label = dirpath.split(\"/\")[-1]\n",
    "            data[\"mapping\"].append(semantic_label)\n",
    "            print(\"\\nProcessing: {}\".format(semantic_label))\n",
    "\n",
    "            for f in filenames:\n",
    "                file_path = os.path.join(dirpath, f)\n",
    "                signal, sample_rate = librosa.load(file_path, sr=SAMPLE_RATE)\n",
    "\n",
    "                mfcc = librosa.feature.mfcc(signal, sample_rate, n_mfcc=num_mfcc, n_fft=n_fft, hop_length=hop_length)\n",
    "                mfcc = mfcc.T\n",
    "\n",
    "                if len(mfcc) == num_mfcc_vectors_per_segment:\n",
    "                    data[\"mfcc\"].append(mfcc.tolist())\n",
    "                    data[\"labels\"].append(i-1)\n",
    "                    print(\"{}\".format(file_path))\n",
    "\n",
    "    with open(json_path, \"w\") as fp:\n",
    "        json.dump(data, fp, indent=4)"
   ]
  },
  {
   "cell_type": "code",
   "execution_count": null,
   "metadata": {},
   "outputs": [],
   "source": [
    "save_mfcc(DATASET_PATH, JSON_PATH)"
   ]
  },
  {
   "cell_type": "markdown",
   "metadata": {},
   "source": [
    "# Data Load"
   ]
  },
  {
   "cell_type": "code",
   "execution_count": null,
   "metadata": {},
   "outputs": [],
   "source": [
    "import json\n",
    "import numpy as np\n",
    "from sklearn.model_selection import train_test_split\n",
    "import tensorflow.keras as keras\n",
    "import matplotlib.pyplot as plt"
   ]
  },
  {
   "cell_type": "code",
   "execution_count": null,
   "metadata": {},
   "outputs": [],
   "source": [
    "DATA_PATH = \"model_robot/data_sound.json\""
   ]
  },
  {
   "cell_type": "code",
   "execution_count": null,
   "metadata": {},
   "outputs": [],
   "source": [
    "def load_data(data_path):\n",
    "\n",
    "    with open(data_path, \"r\") as f:\n",
    "        data = json.load(f)\n",
    "\n",
    "    # convert lists to numpy arrays\n",
    "    X = np.array(data[\"mfcc\"])\n",
    "    y = np.array(data[\"labels\"])\n",
    "\n",
    "    print(\"Data succesfully loaded!\")\n",
    "\n",
    "    return  X, y"
   ]
  },
  {
   "cell_type": "markdown",
   "metadata": {
    "id": "PSLoURAr0Khh"
   },
   "source": [
    "# Conv2D"
   ]
  },
  {
   "cell_type": "code",
   "execution_count": null,
   "metadata": {},
   "outputs": [],
   "source": [
    "X, y = load_data(DATA_PATH)"
   ]
  },
  {
   "cell_type": "code",
   "execution_count": null,
   "metadata": {},
   "outputs": [],
   "source": [
    "# create train, validation and test split\n",
    "X_train, X_test, y_train, y_test = train_test_split(X, y, test_size=0.2)\n",
    "X_train, X_validation, y_train, y_validation = train_test_split(X_train, y_train, test_size=0.2)\n",
    "\n",
    "# add an axis to input sets\n",
    "#X_train = X_train[..., np.newaxis]\n",
    "#X_validation = X_validation[..., np.newaxis]\n",
    "#X_test = X_test[..., np.newaxis]"
   ]
  },
  {
   "cell_type": "code",
   "execution_count": null,
   "metadata": {},
   "outputs": [],
   "source": [
    "input_shape = (None, 13)"
   ]
  },
  {
   "cell_type": "code",
   "execution_count": 243,
   "metadata": {},
   "outputs": [],
   "source": [
    "# build the CNN\n",
    "model_cnn = keras.Sequential()\n",
    "\n",
    "model_cnn.add(keras.layers.LSTM(128, input_shape=input_shape, return_sequences=True))\n",
    "model_cnn.add(keras.layers.LSTM(64))\n",
    "model_cnn.add(keras.layers.Dense(32, activation='relu'))\n",
    "model_cnn.add(keras.layers.Dropout(0.3))\n",
    "model_cnn.add(keras.layers.Dense(4, activation='softmax'))"
   ]
  },
  {
   "cell_type": "code",
   "execution_count": 244,
   "metadata": {},
   "outputs": [],
   "source": [
    "# compile model\n",
    "optimiser = keras.optimizers.Adam(learning_rate=0.0001)\n",
    "model_cnn.compile(optimizer=optimiser,\n",
    "              loss='sparse_categorical_crossentropy',\n",
    "              metrics=['accuracy'])"
   ]
  },
  {
   "cell_type": "code",
   "execution_count": 245,
   "metadata": {},
   "outputs": [
    {
     "name": "stdout",
     "output_type": "stream",
     "text": [
      "Model: \"sequential_25\"\n",
      "_________________________________________________________________\n",
      "Layer (type)                 Output Shape              Param #   \n",
      "=================================================================\n",
      "lstm_49 (LSTM)               (None, None, 128)         72704     \n",
      "_________________________________________________________________\n",
      "lstm_50 (LSTM)               (None, 64)                49408     \n",
      "_________________________________________________________________\n",
      "dense_50 (Dense)             (None, 32)                2080      \n",
      "_________________________________________________________________\n",
      "dropout_25 (Dropout)         (None, 32)                0         \n",
      "_________________________________________________________________\n",
      "dense_51 (Dense)             (None, 4)                 132       \n",
      "=================================================================\n",
      "Total params: 124,324\n",
      "Trainable params: 124,324\n",
      "Non-trainable params: 0\n",
      "_________________________________________________________________\n"
     ]
    }
   ],
   "source": [
    "model_cnn.summary()"
   ]
  },
  {
   "cell_type": "code",
   "execution_count": 246,
   "metadata": {
    "scrolled": true
   },
   "outputs": [
    {
     "name": "stdout",
     "output_type": "stream",
     "text": [
      "Epoch 1/50\n",
      "8/8 [==============================] - 3s 121ms/step - loss: 1.4079 - accuracy: 0.2418 - val_loss: 1.3708 - val_accuracy: 0.3281\n",
      "Epoch 2/50\n",
      "8/8 [==============================] - 0s 26ms/step - loss: 1.4148 - accuracy: 0.2233 - val_loss: 1.3515 - val_accuracy: 0.3750\n",
      "Epoch 3/50\n",
      "8/8 [==============================] - 0s 26ms/step - loss: 1.3668 - accuracy: 0.2807 - val_loss: 1.3374 - val_accuracy: 0.4219\n",
      "Epoch 4/50\n",
      "8/8 [==============================] - 0s 26ms/step - loss: 1.3449 - accuracy: 0.3352 - val_loss: 1.3217 - val_accuracy: 0.4844\n",
      "Epoch 5/50\n",
      "8/8 [==============================] - 0s 26ms/step - loss: 1.3307 - accuracy: 0.3780 - val_loss: 1.3037 - val_accuracy: 0.4688\n",
      "Epoch 6/50\n",
      "8/8 [==============================] - 0s 26ms/step - loss: 1.3228 - accuracy: 0.3957 - val_loss: 1.2852 - val_accuracy: 0.5000\n",
      "Epoch 7/50\n",
      "8/8 [==============================] - ETA: 0s - loss: 1.2932 - accuracy: 0.46 - 0s 26ms/step - loss: 1.2898 - accuracy: 0.4736 - val_loss: 1.2651 - val_accuracy: 0.5312\n",
      "Epoch 8/50\n",
      "8/8 [==============================] - 0s 26ms/step - loss: 1.2789 - accuracy: 0.4985 - val_loss: 1.2443 - val_accuracy: 0.5312\n",
      "Epoch 9/50\n",
      "8/8 [==============================] - 0s 26ms/step - loss: 1.2295 - accuracy: 0.5025 - val_loss: 1.2163 - val_accuracy: 0.5469\n",
      "Epoch 10/50\n",
      "8/8 [==============================] - 0s 26ms/step - loss: 1.1956 - accuracy: 0.5693 - val_loss: 1.1816 - val_accuracy: 0.5938\n",
      "Epoch 11/50\n",
      "8/8 [==============================] - 0s 26ms/step - loss: 1.1826 - accuracy: 0.5581 - val_loss: 1.1388 - val_accuracy: 0.6250\n",
      "Epoch 12/50\n",
      "8/8 [==============================] - 0s 26ms/step - loss: 1.1561 - accuracy: 0.6258 - val_loss: 1.0914 - val_accuracy: 0.6719\n",
      "Epoch 13/50\n",
      "8/8 [==============================] - 0s 26ms/step - loss: 1.0978 - accuracy: 0.6603 - val_loss: 1.0436 - val_accuracy: 0.7500\n",
      "Epoch 14/50\n",
      "8/8 [==============================] - 0s 31ms/step - loss: 1.0151 - accuracy: 0.7025 - val_loss: 0.9961 - val_accuracy: 0.7500\n",
      "Epoch 15/50\n",
      "8/8 [==============================] - 0s 26ms/step - loss: 0.9848 - accuracy: 0.7144 - val_loss: 0.9415 - val_accuracy: 0.7656\n",
      "Epoch 16/50\n",
      "8/8 [==============================] - 0s 26ms/step - loss: 0.9148 - accuracy: 0.7418 - val_loss: 0.8748 - val_accuracy: 0.8281\n",
      "Epoch 17/50\n",
      "8/8 [==============================] - 0s 27ms/step - loss: 0.8429 - accuracy: 0.8028 - val_loss: 0.8108 - val_accuracy: 0.8438\n",
      "Epoch 18/50\n",
      "8/8 [==============================] - 0s 26ms/step - loss: 0.7725 - accuracy: 0.8627 - val_loss: 0.7604 - val_accuracy: 0.8438\n",
      "Epoch 19/50\n",
      "8/8 [==============================] - 0s 26ms/step - loss: 0.7500 - accuracy: 0.8129 - val_loss: 0.6883 - val_accuracy: 0.9062\n",
      "Epoch 20/50\n",
      "8/8 [==============================] - 0s 26ms/step - loss: 0.6130 - accuracy: 0.9072 - val_loss: 0.6219 - val_accuracy: 0.9219\n",
      "Epoch 21/50\n",
      "8/8 [==============================] - 0s 26ms/step - loss: 0.5606 - accuracy: 0.9136 - val_loss: 0.5590 - val_accuracy: 0.9219\n",
      "Epoch 22/50\n",
      "8/8 [==============================] - 0s 27ms/step - loss: 0.5211 - accuracy: 0.9234 - val_loss: 0.5178 - val_accuracy: 0.9219\n",
      "Epoch 23/50\n",
      "8/8 [==============================] - 0s 27ms/step - loss: 0.4706 - accuracy: 0.9173 - val_loss: 0.4639 - val_accuracy: 0.9531\n",
      "Epoch 24/50\n",
      "8/8 [==============================] - 0s 26ms/step - loss: 0.3970 - accuracy: 0.9444 - val_loss: 0.4342 - val_accuracy: 0.9219\n",
      "Epoch 25/50\n",
      "8/8 [==============================] - 0s 26ms/step - loss: 0.3712 - accuracy: 0.9598 - val_loss: 0.4258 - val_accuracy: 0.9062\n",
      "Epoch 26/50\n",
      "8/8 [==============================] - 0s 27ms/step - loss: 0.3374 - accuracy: 0.9659 - val_loss: 0.3793 - val_accuracy: 0.9375\n",
      "Epoch 27/50\n",
      "8/8 [==============================] - 0s 26ms/step - loss: 0.2813 - accuracy: 0.9697 - val_loss: 0.3645 - val_accuracy: 0.9375\n",
      "Epoch 28/50\n",
      "8/8 [==============================] - 0s 29ms/step - loss: 0.2531 - accuracy: 0.9718 - val_loss: 0.3508 - val_accuracy: 0.9375\n",
      "Epoch 29/50\n",
      "8/8 [==============================] - 0s 26ms/step - loss: 0.2365 - accuracy: 0.9910 - val_loss: 0.3280 - val_accuracy: 0.9375\n",
      "Epoch 30/50\n",
      "8/8 [==============================] - 0s 26ms/step - loss: 0.1916 - accuracy: 0.9951 - val_loss: 0.3178 - val_accuracy: 0.9375\n",
      "Epoch 31/50\n",
      "8/8 [==============================] - 0s 27ms/step - loss: 0.1964 - accuracy: 0.9742 - val_loss: 0.3118 - val_accuracy: 0.9375\n",
      "Epoch 32/50\n",
      "8/8 [==============================] - 0s 26ms/step - loss: 0.1775 - accuracy: 0.9875 - val_loss: 0.3048 - val_accuracy: 0.9375\n",
      "Epoch 33/50\n",
      "8/8 [==============================] - 0s 26ms/step - loss: 0.1787 - accuracy: 0.9974 - val_loss: 0.3007 - val_accuracy: 0.9375\n",
      "Epoch 34/50\n",
      "8/8 [==============================] - 0s 27ms/step - loss: 0.1424 - accuracy: 0.9991 - val_loss: 0.2999 - val_accuracy: 0.9375\n",
      "Epoch 35/50\n",
      "8/8 [==============================] - 0s 27ms/step - loss: 0.1320 - accuracy: 0.9901 - val_loss: 0.2969 - val_accuracy: 0.9375\n",
      "Epoch 36/50\n",
      "8/8 [==============================] - 0s 27ms/step - loss: 0.1399 - accuracy: 0.9965 - val_loss: 0.3001 - val_accuracy: 0.9375\n",
      "Epoch 37/50\n",
      "8/8 [==============================] - 0s 26ms/step - loss: 0.1102 - accuracy: 0.9939 - val_loss: 0.3009 - val_accuracy: 0.9375\n",
      "Epoch 38/50\n",
      "8/8 [==============================] - 0s 27ms/step - loss: 0.1087 - accuracy: 0.9901 - val_loss: 0.2954 - val_accuracy: 0.9375\n",
      "Epoch 39/50\n",
      "8/8 [==============================] - 0s 26ms/step - loss: 0.1386 - accuracy: 0.9901 - val_loss: 0.2964 - val_accuracy: 0.9375\n",
      "Epoch 40/50\n",
      "8/8 [==============================] - 0s 29ms/step - loss: 0.1092 - accuracy: 0.9917 - val_loss: 0.3014 - val_accuracy: 0.9219\n",
      "Epoch 41/50\n",
      "8/8 [==============================] - 0s 26ms/step - loss: 0.1119 - accuracy: 0.9917 - val_loss: 0.3003 - val_accuracy: 0.9375\n",
      "Epoch 42/50\n",
      "8/8 [==============================] - 0s 26ms/step - loss: 0.1084 - accuracy: 1.0000 - val_loss: 0.3015 - val_accuracy: 0.9219\n",
      "Epoch 43/50\n",
      "8/8 [==============================] - 0s 28ms/step - loss: 0.0946 - accuracy: 1.0000 - val_loss: 0.3088 - val_accuracy: 0.9219\n",
      "Epoch 44/50\n",
      "8/8 [==============================] - 0s 26ms/step - loss: 0.0875 - accuracy: 1.0000 - val_loss: 0.3116 - val_accuracy: 0.9219\n",
      "Epoch 45/50\n",
      "8/8 [==============================] - 0s 26ms/step - loss: 0.0808 - accuracy: 0.9893 - val_loss: 0.3120 - val_accuracy: 0.9219\n",
      "Epoch 46/50\n",
      "8/8 [==============================] - 0s 26ms/step - loss: 0.0937 - accuracy: 1.0000 - val_loss: 0.3123 - val_accuracy: 0.9219\n",
      "Epoch 47/50\n",
      "8/8 [==============================] - 0s 26ms/step - loss: 0.0902 - accuracy: 0.9960 - val_loss: 0.3096 - val_accuracy: 0.9219\n",
      "Epoch 48/50\n",
      "8/8 [==============================] - 0s 26ms/step - loss: 0.0763 - accuracy: 0.9901 - val_loss: 0.3102 - val_accuracy: 0.9219\n",
      "Epoch 49/50\n",
      "8/8 [==============================] - 0s 26ms/step - loss: 0.0680 - accuracy: 0.9981 - val_loss: 0.3112 - val_accuracy: 0.9219\n",
      "Epoch 50/50\n",
      "8/8 [==============================] - 0s 26ms/step - loss: 0.0676 - accuracy: 1.0000 - val_loss: 0.3167 - val_accuracy: 0.9219\n"
     ]
    }
   ],
   "source": [
    "# train model\n",
    "history = model_cnn.fit(X_train, y_train, validation_data=(X_validation, y_validation), batch_size=32, epochs=50)"
   ]
  },
  {
   "cell_type": "code",
   "execution_count": 247,
   "metadata": {},
   "outputs": [],
   "source": [
    "def plot_history(history):\n",
    "\n",
    "    fig, axs = plt.subplots(2)\n",
    "\n",
    "    # create accuracy sublpot\n",
    "    axs[0].plot(history.history[\"accuracy\"], label=\"train accuracy\")\n",
    "    axs[0].plot(history.history[\"val_accuracy\"], label=\"test accuracy\")\n",
    "    axs[0].set_ylabel(\"Accuracy\")\n",
    "    axs[0].legend(loc=\"lower right\")\n",
    "    axs[0].set_title(\"Accuracy eval\")\n",
    "\n",
    "    # create error sublpot\n",
    "    axs[1].plot(history.history[\"loss\"], label=\"train error\")\n",
    "    axs[1].plot(history.history[\"val_loss\"], label=\"test error\")\n",
    "    axs[1].set_ylabel(\"Error\")\n",
    "    axs[1].set_xlabel(\"Epoch\")\n",
    "    axs[1].legend(loc=\"upper right\")\n",
    "    axs[1].set_title(\"Error eval\")\n",
    "    \n",
    "    plt.savefig('plot.png')\n",
    "    plt.show()"
   ]
  },
  {
   "cell_type": "code",
   "execution_count": 248,
   "metadata": {},
   "outputs": [
    {
     "data": {
      "image/png": "[encoded data removed]",
      "text/plain": [
       "<Figure size 432x288 with 2 Axes>"
      ]
     },
     "metadata": {
      "needs_background": "light"
     },
     "output_type": "display_data"
    }
   ],
   "source": [
    "# plot accuracy and error as a function of the epochs\n",
    "plot_history(history)"
   ]
  },
  {
   "cell_type": "code",
   "execution_count": 249,
   "metadata": {},
   "outputs": [
    {
     "name": "stdout",
     "output_type": "stream",
     "text": [
      "3/3 - 1s - loss: 0.2640 - accuracy: 0.9375\n",
      "\n",
      "Test accuracy: 0.9375\n"
     ]
    }
   ],
   "source": [
    "# evaluate model on Test Set\n",
    "test_loss, test_acc = model_cnn.evaluate(X_test, y_test, verbose=2)\n",
    "print('\\nTest accuracy:', test_acc)"
   ]
  },
  {
   "cell_type": "code",
   "execution_count": 250,
   "metadata": {},
   "outputs": [],
   "source": [
    "model_cnn.save(\"model_sum/MFCC_LSTM.h5\")"
   ]
  }
 ],
 "metadata": {
  "colab": {
   "collapsed_sections": [],
   "name": "Music Genre Classification #1.ipynb",
   "provenance": []
  },
  "kernelspec": {
   "display_name": "Python 3",
   "language": "python",
   "name": "python3"
  },
  "language_info": {
   "codemirror_mode": {
    "name": "ipython",
    "version": 3
   },
   "file_extension": ".py",
   "mimetype": "text/x-python",
   "name": "python",
   "nbconvert_exporter": "python",
   "pygments_lexer": "ipython3",
   "version": "3.8.5"
  }
 },
 "nbformat": 4,
 "nbformat_minor": 1
}
