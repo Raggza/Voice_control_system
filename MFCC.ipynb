{
 "cells": [
  {
   "cell_type": "markdown",
   "metadata": {},
   "source": [
    "# MFCC"
   ]
  },
  {
   "cell_type": "code",
   "execution_count": null,
   "metadata": {
    "id": "W6PjerFRocFu"
   },
   "outputs": [],
   "source": [
    "import numpy as np\n",
    "import librosa, librosa.display\n",
    "import matplotlib.pyplot as plt\n",
    "import json\n",
    "import os\n",
    "import math\n",
    "from sklearn.model_selection import train_test_split\n",
    "import tensorflow.keras as keras\n",
    "from tensorflow.keras.layers import Input, Conv2D, Flatten, Concatenate, Dense, Dropout, TimeDistributed, LSTM\n",
    "from keras.layers import Layer\n",
    "from tensorflow.keras import Model"
   ]
  },
  {
   "cell_type": "code",
   "execution_count": null,
   "metadata": {
    "id": "ht63k7wLzZv2"
   },
   "outputs": [],
   "source": [
    "DATASET_PATH = \"sound - robot\"\n",
    "JSON_PATH = \"model_robot/data_sound.json\"\n",
    "SAMPLE_RATE = 16000\n",
    "TRACK_DURATION = 1 # measured in seconds\n",
    "SAMPLES_PER_TRACK = SAMPLE_RATE * TRACK_DURATION"
   ]
  },
  {
   "cell_type": "code",
   "execution_count": null,
   "metadata": {
    "id": "uOn0XiZsziCG"
   },
   "outputs": [],
   "source": [
    "def save_mfcc(dataset_path, json_path, num_mfcc=13, n_fft=2048, hop_length=512):\n",
    "    \n",
    "    data = {\n",
    "        \"mapping\": [],\n",
    "        \"labels\": [],\n",
    "        \"mfcc\": []\n",
    "    }\n",
    "\n",
    "    samples_per_segment = int(SAMPLES_PER_TRACK)\n",
    "    num_mfcc_vectors_per_segment = math.ceil(samples_per_segment / hop_length)\n",
    "\n",
    "    for i, (dirpath, dirnames, filenames) in enumerate(os.walk(dataset_path)):\n",
    "\n",
    "        if dirpath is not dataset_path:\n",
    "\n",
    "            semantic_label = dirpath.split(\"/\")[-1]\n",
    "            data[\"mapping\"].append(semantic_label)\n",
    "            print(\"\\nProcessing: {}\".format(semantic_label))\n",
    "\n",
    "            for f in filenames:\n",
    "                file_path = os.path.join(dirpath, f)\n",
    "                signal, sample_rate = librosa.load(file_path, sr=SAMPLE_RATE)\n",
    "\n",
    "                mfcc = librosa.feature.mfcc(signal, sample_rate, n_mfcc=num_mfcc, n_fft=n_fft, hop_length=hop_length)\n",
    "                mfcc = mfcc.T\n",
    "\n",
    "                if len(mfcc) == num_mfcc_vectors_per_segment:\n",
    "                    data[\"mfcc\"].append(mfcc.tolist())\n",
    "                    data[\"labels\"].append(i-1)\n",
    "                    print(\"{}\".format(file_path))\n",
    "\n",
    "    with open(json_path, \"w\") as fp:\n",
    "        json.dump(data, fp, indent=4)"
   ]
  },
  {
   "cell_type": "code",
   "execution_count": null,
   "metadata": {
    "colab": {
     "base_uri": "https://localhost:8080/"
    },
    "id": "3qj0XT6d0GFS",
    "outputId": "f4258990-47ed-44b8-831f-c22054854499"
   },
   "outputs": [],
   "source": [
    "save_mfcc(DATASET_PATH, JSON_PATH)"
   ]
  },
  {
   "cell_type": "markdown",
   "metadata": {},
   "source": [
    "# Data Load"
   ]
  },
  {
   "cell_type": "code",
   "execution_count": null,
   "metadata": {},
   "outputs": [],
   "source": [
    "import json\n",
    "import numpy as np\n",
    "from sklearn.model_selection import train_test_split\n",
    "from tensorflow.keras.layers import Input, Conv2D, Flatten, Concatenate, Dense, Dropout, TimeDistributed, LSTM\n",
    "import matplotlib.pyplot as plt\n",
    "from keras.layers import Layer\n",
    "from tensorflow.keras import Model\n",
    "import tensorflow.keras as keras"
   ]
  },
  {
   "cell_type": "code",
   "execution_count": null,
   "metadata": {},
   "outputs": [],
   "source": [
    "DATA_PATH = \"model_robot/data_sound.json\""
   ]
  },
  {
   "cell_type": "code",
   "execution_count": null,
   "metadata": {},
   "outputs": [],
   "source": [
    "def load_data(data_path):\n",
    "\n",
    "    with open(data_path, \"r\") as f:\n",
    "        data = json.load(f)\n",
    "\n",
    "    # convert lists to numpy arrays\n",
    "    X = np.array(data[\"mfcc\"])\n",
    "    y = np.array(data[\"labels\"])\n",
    "\n",
    "    print(\"Data succesfully loaded!\")\n",
    "\n",
    "    return  X, y"
   ]
  },
  {
   "cell_type": "markdown",
   "metadata": {
    "id": "PSLoURAr0Khh"
   },
   "source": [
    "# Conv2D"
   ]
  },
  {
   "cell_type": "code",
   "execution_count": 52,
   "metadata": {},
   "outputs": [
    {
     "name": "stdout",
     "output_type": "stream",
     "text": [
      "Data succesfully loaded!\n"
     ]
    }
   ],
   "source": [
    "X, y = load_data(DATA_PATH)"
   ]
  },
  {
   "cell_type": "code",
   "execution_count": 53,
   "metadata": {},
   "outputs": [],
   "source": [
    "# create train, validation and test split\n",
    "X_train, X_test, y_train, y_test = train_test_split(X, y, test_size=0.2)\n",
    "X_train, X_validation, y_train, y_validation = train_test_split(X_train, y_train, test_size=0.2)\n",
    "\n",
    "# add an axis to input sets\n",
    "X_train = X_train[..., np.newaxis]\n",
    "X_validation = X_validation[..., np.newaxis]\n",
    "X_test = X_test[..., np.newaxis]"
   ]
  },
  {
   "cell_type": "code",
   "execution_count": 54,
   "metadata": {},
   "outputs": [],
   "source": [
    "from keras import backend as K"
   ]
  },
  {
   "cell_type": "code",
   "execution_count": 55,
   "metadata": {},
   "outputs": [],
   "source": [
    "input_shape = (X_train.shape[1], X_train.shape[2], 1)\n",
    "input_shape = Input(shape= input_shape)"
   ]
  },
  {
   "cell_type": "code",
   "execution_count": 56,
   "metadata": {},
   "outputs": [],
   "source": [
    "# 1st conv layer\n",
    "model_cnn1 = Conv2D(8, (2, 2), activation='relu', padding='same')(input_shape)\n",
    "model_cnn1 = Conv2D(16, (2, 2), activation='relu', padding='same')(input_shape)"
   ]
  },
  {
   "cell_type": "code",
   "execution_count": 57,
   "metadata": {},
   "outputs": [],
   "source": [
    "# 2nd conv layer\n",
    "model_cnn2 = Conv2D(8, (3, 3), activation='relu', padding='same')(input_shape)\n",
    "model_cnn2 = Conv2D(16, (3, 3), activation='relu', padding='same')(input_shape)"
   ]
  },
  {
   "cell_type": "code",
   "execution_count": 58,
   "metadata": {},
   "outputs": [],
   "source": [
    "# 3rd conv layer\n",
    "model_cnn3 = Conv2D(8, (5, 5), activation='relu', padding='same')(input_shape)\n",
    "model_cnn3 = Conv2D(16, (5, 5), activation='relu', padding='same')(input_shape)"
   ]
  },
  {
   "cell_type": "code",
   "execution_count": 59,
   "metadata": {},
   "outputs": [],
   "source": [
    "class attention(Layer):\n",
    "    def __init__(self,**kwargs):\n",
    "        super(attention,self).__init__(**kwargs)\n",
    "\n",
    "    def build(self,input_shape):\n",
    "        self.W=self.add_weight(name=\"att_weight\",shape=(input_shape[-1],1),initializer=\"normal\")\n",
    "        self.b=self.add_weight(name=\"att_bias\",shape=(input_shape[1],1),initializer=\"zeros\")\n",
    "        super(attention, self).build(input_shape)\n",
    "\n",
    "    def call(self,x):\n",
    "        et=K.squeeze(K.tanh(K.dot(x,self.W)+self.b),axis=-1)\n",
    "        at=K.softmax(et)\n",
    "        at=K.expand_dims(at,axis=-1)\n",
    "        output=x*at\n",
    "        return K.sum(output,axis=1)\n",
    "\n",
    "    def compute_output_shape(self,input_shape):\n",
    "        return (input_shape[0],input_shape[-1])\n",
    "\n",
    "    def get_config(self):\n",
    "        return super(attention,self).get_config()"
   ]
  },
  {
   "cell_type": "code",
   "execution_count": 84,
   "metadata": {},
   "outputs": [],
   "source": [
    "model_cnn_con = Concatenate()([model_cnn1, model_cnn2, model_cnn3])\n",
    "\n",
    "# Fully connected \n",
    "FC1 = Dense(64, activation='relu')(model_cnn_con)\n",
    "FC2 = Dropout(0.3)(FC1)\n",
    "FC2 = Dense(32, activation='relu')(FC2)\n",
    "\n",
    "model_lstm = TimeDistributed(Flatten())(FC2)\n",
    "model_lstm = LSTM(8, return_sequences=True)(model_lstm)\n",
    "att_out=attention()(model_lstm)\n",
    "\n",
    "output = Dense(4, activation= 'softmax')(att_out)\n",
    "\n",
    "model_cnn = Model(inputs= [input_shape], outputs= output)\n",
    "\n",
    "# compile model\n",
    "optimiser = keras.optimizers.Adam(learning_rate=0.0001)\n",
    "model_cnn.compile(optimizer=optimiser,\n",
    "              loss='sparse_categorical_crossentropy',\n",
    "              metrics=['accuracy'])"
   ]
  },
  {
   "cell_type": "code",
   "execution_count": 85,
   "metadata": {},
   "outputs": [
    {
     "name": "stdout",
     "output_type": "stream",
     "text": [
      "Model: \"model_5\"\n",
      "__________________________________________________________________________________________________\n",
      "Layer (type)                    Output Shape         Param #     Connected to                     \n",
      "==================================================================================================\n",
      "input_4 (InputLayer)            [(None, 32, 13, 1)]  0                                            \n",
      "__________________________________________________________________________________________________\n",
      "conv2d_19 (Conv2D)              (None, 32, 13, 16)   80          input_4[0][0]                    \n",
      "__________________________________________________________________________________________________\n",
      "conv2d_21 (Conv2D)              (None, 32, 13, 16)   160         input_4[0][0]                    \n",
      "__________________________________________________________________________________________________\n",
      "conv2d_23 (Conv2D)              (None, 32, 13, 16)   416         input_4[0][0]                    \n",
      "__________________________________________________________________________________________________\n",
      "concatenate_5 (Concatenate)     (None, 32, 13, 48)   0           conv2d_19[0][0]                  \n",
      "                                                                 conv2d_21[0][0]                  \n",
      "                                                                 conv2d_23[0][0]                  \n",
      "__________________________________________________________________________________________________\n",
      "dense_15 (Dense)                (None, 32, 13, 64)   3136        concatenate_5[0][0]              \n",
      "__________________________________________________________________________________________________\n",
      "dropout_5 (Dropout)             (None, 32, 13, 64)   0           dense_15[0][0]                   \n",
      "__________________________________________________________________________________________________\n",
      "dense_16 (Dense)                (None, 32, 13, 32)   2080        dropout_5[0][0]                  \n",
      "__________________________________________________________________________________________________\n",
      "time_distributed_5 (TimeDistrib (None, 32, 416)      0           dense_16[0][0]                   \n",
      "__________________________________________________________________________________________________\n",
      "lstm_5 (LSTM)                   (None, 32, 8)        13600       time_distributed_5[0][0]         \n",
      "__________________________________________________________________________________________________\n",
      "attention_5 (attention)         (None, 8)            40          lstm_5[0][0]                     \n",
      "__________________________________________________________________________________________________\n",
      "dense_17 (Dense)                (None, 4)            36          attention_5[0][0]                \n",
      "==================================================================================================\n",
      "Total params: 19,548\n",
      "Trainable params: 19,548\n",
      "Non-trainable params: 0\n",
      "__________________________________________________________________________________________________\n"
     ]
    }
   ],
   "source": [
    "model_cnn.summary()"
   ]
  },
  {
   "cell_type": "code",
   "execution_count": 86,
   "metadata": {
    "scrolled": true
   },
   "outputs": [
    {
     "name": "stdout",
     "output_type": "stream",
     "text": [
      "Epoch 1/50\n",
      "8/8 [==============================] - 2s 89ms/step - loss: 1.4381 - accuracy: 0.2546 - val_loss: 1.3944 - val_accuracy: 0.3125\n",
      "Epoch 2/50\n",
      "8/8 [==============================] - 0s 28ms/step - loss: 1.4344 - accuracy: 0.2553 - val_loss: 1.3738 - val_accuracy: 0.3125\n",
      "Epoch 3/50\n",
      "8/8 [==============================] - 0s 28ms/step - loss: 1.3765 - accuracy: 0.2576 - val_loss: 1.3538 - val_accuracy: 0.2969\n",
      "Epoch 4/50\n",
      "8/8 [==============================] - 0s 29ms/step - loss: 1.3725 - accuracy: 0.2546 - val_loss: 1.3310 - val_accuracy: 0.3438\n",
      "Epoch 5/50\n",
      "8/8 [==============================] - 0s 33ms/step - loss: 1.3741 - accuracy: 0.2782 - val_loss: 1.3257 - val_accuracy: 0.3906\n",
      "Epoch 6/50\n",
      "8/8 [==============================] - 0s 36ms/step - loss: 1.3519 - accuracy: 0.3494 - val_loss: 1.3347 - val_accuracy: 0.3906\n",
      "Epoch 7/50\n",
      "8/8 [==============================] - 0s 30ms/step - loss: 1.3289 - accuracy: 0.4182 - val_loss: 1.3035 - val_accuracy: 0.4219\n",
      "Epoch 8/50\n",
      "8/8 [==============================] - 0s 30ms/step - loss: 1.3402 - accuracy: 0.3187 - val_loss: 1.2868 - val_accuracy: 0.4219\n",
      "Epoch 9/50\n",
      "8/8 [==============================] - 0s 38ms/step - loss: 1.3211 - accuracy: 0.3796 - val_loss: 1.2589 - val_accuracy: 0.4688\n",
      "Epoch 10/50\n",
      "8/8 [==============================] - 0s 37ms/step - loss: 1.3039 - accuracy: 0.4204 - val_loss: 1.2091 - val_accuracy: 0.5000\n",
      "Epoch 11/50\n",
      "8/8 [==============================] - 0s 39ms/step - loss: 1.2934 - accuracy: 0.4313 - val_loss: 1.1685 - val_accuracy: 0.5000\n",
      "Epoch 12/50\n",
      "8/8 [==============================] - 0s 36ms/step - loss: 1.2752 - accuracy: 0.3688 - val_loss: 1.1408 - val_accuracy: 0.5000\n",
      "Epoch 13/50\n",
      "8/8 [==============================] - 0s 56ms/step - loss: 1.2402 - accuracy: 0.4596 - val_loss: 1.0954 - val_accuracy: 0.5469\n",
      "Epoch 14/50\n",
      "8/8 [==============================] - 0s 36ms/step - loss: 1.2233 - accuracy: 0.4780 - val_loss: 1.0360 - val_accuracy: 0.5625\n",
      "Epoch 15/50\n",
      "8/8 [==============================] - 0s 32ms/step - loss: 1.1915 - accuracy: 0.4838 - val_loss: 1.0092 - val_accuracy: 0.5781\n",
      "Epoch 16/50\n",
      "8/8 [==============================] - 0s 34ms/step - loss: 1.1494 - accuracy: 0.5166 - val_loss: 0.9860 - val_accuracy: 0.6250\n",
      "Epoch 17/50\n",
      "8/8 [==============================] - 0s 30ms/step - loss: 1.1127 - accuracy: 0.5229 - val_loss: 0.9716 - val_accuracy: 0.6406\n",
      "Epoch 18/50\n",
      "8/8 [==============================] - 0s 33ms/step - loss: 1.1032 - accuracy: 0.5510 - val_loss: 0.9534 - val_accuracy: 0.6562\n",
      "Epoch 19/50\n",
      "8/8 [==============================] - 0s 29ms/step - loss: 1.0503 - accuracy: 0.6449 - val_loss: 0.9323 - val_accuracy: 0.6406\n",
      "Epoch 20/50\n",
      "8/8 [==============================] - 0s 29ms/step - loss: 1.0614 - accuracy: 0.6053 - val_loss: 0.9173 - val_accuracy: 0.6719\n",
      "Epoch 21/50\n",
      "8/8 [==============================] - 0s 33ms/step - loss: 1.0267 - accuracy: 0.6547 - val_loss: 0.9129 - val_accuracy: 0.6719\n",
      "Epoch 22/50\n",
      "8/8 [==============================] - 0s 42ms/step - loss: 0.9874 - accuracy: 0.7102 - val_loss: 0.8896 - val_accuracy: 0.7031\n",
      "Epoch 23/50\n",
      "8/8 [==============================] - 0s 36ms/step - loss: 0.9707 - accuracy: 0.6753 - val_loss: 0.8761 - val_accuracy: 0.6875\n",
      "Epoch 24/50\n",
      "8/8 [==============================] - 0s 36ms/step - loss: 0.9988 - accuracy: 0.6508 - val_loss: 0.8580 - val_accuracy: 0.7031\n",
      "Epoch 25/50\n",
      "8/8 [==============================] - 0s 37ms/step - loss: 0.9600 - accuracy: 0.6520 - val_loss: 0.8425 - val_accuracy: 0.7031\n",
      "Epoch 26/50\n",
      "8/8 [==============================] - 0s 32ms/step - loss: 0.9411 - accuracy: 0.6735 - val_loss: 0.8406 - val_accuracy: 0.6875\n",
      "Epoch 27/50\n",
      "8/8 [==============================] - 0s 39ms/step - loss: 0.8932 - accuracy: 0.7223 - val_loss: 0.8330 - val_accuracy: 0.7031\n",
      "Epoch 28/50\n",
      "8/8 [==============================] - 0s 46ms/step - loss: 0.8748 - accuracy: 0.7211 - val_loss: 0.8213 - val_accuracy: 0.7031\n",
      "Epoch 29/50\n",
      "8/8 [==============================] - 0s 37ms/step - loss: 0.8658 - accuracy: 0.7360 - val_loss: 0.8137 - val_accuracy: 0.7344\n",
      "Epoch 30/50\n",
      "8/8 [==============================] - 0s 41ms/step - loss: 0.8897 - accuracy: 0.7106 - val_loss: 0.7919 - val_accuracy: 0.7500\n",
      "Epoch 31/50\n",
      "8/8 [==============================] - 0s 32ms/step - loss: 0.8615 - accuracy: 0.7372 - val_loss: 0.7871 - val_accuracy: 0.7656\n",
      "Epoch 32/50\n",
      "8/8 [==============================] - 0s 45ms/step - loss: 0.8482 - accuracy: 0.7404 - val_loss: 0.7822 - val_accuracy: 0.7500\n",
      "Epoch 33/50\n",
      "8/8 [==============================] - 0s 39ms/step - loss: 0.8364 - accuracy: 0.7513 - val_loss: 0.7601 - val_accuracy: 0.7656\n",
      "Epoch 34/50\n",
      "8/8 [==============================] - 0s 34ms/step - loss: 0.8158 - accuracy: 0.7517 - val_loss: 0.7392 - val_accuracy: 0.8125\n",
      "Epoch 35/50\n",
      "8/8 [==============================] - 0s 54ms/step - loss: 0.8588 - accuracy: 0.6985 - val_loss: 0.7365 - val_accuracy: 0.8125\n",
      "Epoch 36/50\n",
      "8/8 [==============================] - 0s 40ms/step - loss: 0.8161 - accuracy: 0.7425 - val_loss: 0.7326 - val_accuracy: 0.8281\n",
      "Epoch 37/50\n",
      "8/8 [==============================] - 0s 39ms/step - loss: 0.8141 - accuracy: 0.7467 - val_loss: 0.7317 - val_accuracy: 0.8125\n",
      "Epoch 38/50\n",
      "8/8 [==============================] - 0s 33ms/step - loss: 0.8004 - accuracy: 0.7469 - val_loss: 0.7346 - val_accuracy: 0.8438\n",
      "Epoch 39/50\n",
      "8/8 [==============================] - 0s 31ms/step - loss: 0.8152 - accuracy: 0.7605 - val_loss: 0.7332 - val_accuracy: 0.8594\n",
      "Epoch 40/50\n",
      "8/8 [==============================] - 0s 39ms/step - loss: 0.7823 - accuracy: 0.7896 - val_loss: 0.7037 - val_accuracy: 0.8438\n",
      "Epoch 41/50\n",
      "8/8 [==============================] - 0s 35ms/step - loss: 0.7647 - accuracy: 0.8149 - val_loss: 0.6926 - val_accuracy: 0.8438\n",
      "Epoch 42/50\n",
      "8/8 [==============================] - 0s 29ms/step - loss: 0.7782 - accuracy: 0.7873 - val_loss: 0.6848 - val_accuracy: 0.8594\n",
      "Epoch 43/50\n",
      "8/8 [==============================] - 0s 35ms/step - loss: 0.7590 - accuracy: 0.7688 - val_loss: 0.6879 - val_accuracy: 0.8438\n",
      "Epoch 44/50\n",
      "8/8 [==============================] - 0s 29ms/step - loss: 0.7442 - accuracy: 0.8194 - val_loss: 0.6936 - val_accuracy: 0.8281\n",
      "Epoch 45/50\n",
      "8/8 [==============================] - 0s 34ms/step - loss: 0.7164 - accuracy: 0.8143 - val_loss: 0.6901 - val_accuracy: 0.8438\n",
      "Epoch 46/50\n",
      "8/8 [==============================] - 0s 34ms/step - loss: 0.7321 - accuracy: 0.8513 - val_loss: 0.6794 - val_accuracy: 0.8594\n",
      "Epoch 47/50\n",
      "8/8 [==============================] - 0s 33ms/step - loss: 0.7101 - accuracy: 0.8590 - val_loss: 0.6743 - val_accuracy: 0.8594\n",
      "Epoch 48/50\n",
      "8/8 [==============================] - 0s 36ms/step - loss: 0.6922 - accuracy: 0.8615 - val_loss: 0.6689 - val_accuracy: 0.8750\n",
      "Epoch 49/50\n",
      "8/8 [==============================] - 0s 34ms/step - loss: 0.7099 - accuracy: 0.8524 - val_loss: 0.6627 - val_accuracy: 0.8750\n",
      "Epoch 50/50\n",
      "8/8 [==============================] - 0s 33ms/step - loss: 0.6921 - accuracy: 0.8434 - val_loss: 0.6576 - val_accuracy: 0.8750\n"
     ]
    }
   ],
   "source": [
    "# train model\n",
    "history = model_cnn.fit(X_train, y_train, validation_data=(X_validation, y_validation), batch_size=32, epochs=50)"
   ]
  },
  {
   "cell_type": "code",
   "execution_count": 87,
   "metadata": {},
   "outputs": [],
   "source": [
    "def plot_history(history):\n",
    "\n",
    "    fig, axs = plt.subplots(2)\n",
    "\n",
    "    # create accuracy sublpot\n",
    "    axs[0].plot(history.history[\"accuracy\"], label=\"train accuracy\")\n",
    "    axs[0].plot(history.history[\"val_accuracy\"], label=\"test accuracy\")\n",
    "    axs[0].set_ylabel(\"Accuracy\")\n",
    "    axs[0].legend(loc=\"lower right\")\n",
    "    axs[0].set_title(\"Accuracy eval\")\n",
    "\n",
    "    # create error sublpot\n",
    "    axs[1].plot(history.history[\"loss\"], label=\"train error\")\n",
    "    axs[1].plot(history.history[\"val_loss\"], label=\"test error\")\n",
    "    axs[1].set_ylabel(\"Error\")\n",
    "    axs[1].set_xlabel(\"Epoch\")\n",
    "    axs[1].legend(loc=\"upper right\")\n",
    "    axs[1].set_title(\"Error eval\")\n",
    "    \n",
    "    plt.savefig('plot.png')\n",
    "    plt.show()"
   ]
  },
  {
   "cell_type": "code",
   "execution_count": 88,
   "metadata": {},
   "outputs": [
    {
     "data": {
      "image/png": "[encoded data removed]",
      "text/plain": [
       "<Figure size 432x288 with 2 Axes>"
      ]
     },
     "metadata": {
      "needs_background": "light"
     },
     "output_type": "display_data"
    }
   ],
   "source": [
    "# plot accuracy and error as a function of the epochs\n",
    "plot_history(history)"
   ]
  },
  {
   "cell_type": "code",
   "execution_count": 89,
   "metadata": {},
   "outputs": [
    {
     "name": "stdout",
     "output_type": "stream",
     "text": [
      "3/3 - 0s - loss: 0.6878 - accuracy: 0.8375\n",
      "\n",
      "Test accuracy: 0.8374999761581421\n"
     ]
    }
   ],
   "source": [
    "# evaluate model on Test Set\n",
    "test_loss, test_acc = model_cnn.evaluate(X_test, y_test, verbose=2)\n",
    "print('\\nTest accuracy:', test_acc)"
   ]
  },
  {
   "cell_type": "code",
   "execution_count": 90,
   "metadata": {},
   "outputs": [],
   "source": [
    "from sklearn.metrics import precision_score\n",
    "from sklearn.metrics import recall_score\n",
    "from sklearn.metrics import f1_score"
   ]
  },
  {
   "cell_type": "code",
   "execution_count": 91,
   "metadata": {},
   "outputs": [
    {
     "name": "stdout",
     "output_type": "stream",
     "text": [
      "WARNING:tensorflow:5 out of the last 13 calls to <function Model.make_predict_function.<locals>.predict_function at 0x000002A5486CB4C0> triggered tf.function retracing. Tracing is expensive and the excessive number of tracings could be due to (1) creating @tf.function repeatedly in a loop, (2) passing tensors with different shapes, (3) passing Python objects instead of tensors. For (1), please define your @tf.function outside of the loop. For (2), @tf.function has experimental_relax_shapes=True option that relaxes argument shapes that can avoid unnecessary retracing. For (3), please refer to https://www.tensorflow.org/guide/function#controlling_retracing and https://www.tensorflow.org/api_docs/python/tf/function for  more details.\n"
     ]
    }
   ],
   "source": [
    "yhat_classes = np.argmax(model_cnn.predict(X_test), axis=1)"
   ]
  },
  {
   "cell_type": "code",
   "execution_count": 92,
   "metadata": {},
   "outputs": [
    {
     "name": "stdout",
     "output_type": "stream",
     "text": [
      "Precision: 0.864719\n",
      "Recall: 0.858202\n",
      "F1 score: 0.830774\n",
      "Precision: 0.837500\n",
      "Recall: 0.837500\n",
      "F1 score: 0.837500\n"
     ]
    }
   ],
   "source": [
    "# precision tp / (tp + fp)\n",
    "precision = precision_score(y_test, yhat_classes, average='macro')\n",
    "print('Precision: %f' % precision)\n",
    "# recall: tp / (tp + fn)\n",
    "recall = recall_score(y_test, yhat_classes, average='macro')\n",
    "print('Recall: %f' % recall)\n",
    "# f1: 2 tp / (2 tp + fp + fn)\n",
    "f1 = f1_score(y_test, yhat_classes, average='macro')\n",
    "print('F1 score: %f' % f1)\n",
    "\n",
    "# precision tp / (tp + fp)\n",
    "precision = precision_score(y_test, yhat_classes, average='micro')\n",
    "print('Precision: %f' % precision)\n",
    "# recall: tp / (tp + fn)\n",
    "recall = recall_score(y_test, yhat_classes, average='micro')\n",
    "print('Recall: %f' % recall)\n",
    "# f1: 2 tp / (2 tp + fp + fn)\n",
    "f1 = f1_score(y_test, yhat_classes, average='micro')\n",
    "print('F1 score: %f' % f1)"
   ]
  },
  {
   "cell_type": "code",
   "execution_count": 93,
   "metadata": {
    "scrolled": true
   },
   "outputs": [],
   "source": [
    "#model_cnn.save(\"model_robot/Speech_to_Text\")"
   ]
  },
  {
   "cell_type": "code",
   "execution_count": 94,
   "metadata": {},
   "outputs": [],
   "source": [
    "#model_cnn.save(\"model_robot/Speech_to_Text.tf\")"
   ]
  }
 ],
 "metadata": {
  "colab": {
   "collapsed_sections": [],
   "name": "Music Genre Classification #1.ipynb",
   "provenance": []
  },
  "kernelspec": {
   "display_name": "Python 3",
   "language": "python",
   "name": "python3"
  },
  "language_info": {
   "codemirror_mode": {
    "name": "ipython",
    "version": 3
   },
   "file_extension": ".py",
   "mimetype": "text/x-python",
   "name": "python",
   "nbconvert_exporter": "python",
   "pygments_lexer": "ipython3",
   "version": "3.8.5"
  }
 },
 "nbformat": 4,
 "nbformat_minor": 1
}
