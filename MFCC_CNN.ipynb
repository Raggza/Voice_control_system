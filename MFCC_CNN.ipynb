{
 "cells": [
  {
   "cell_type": "markdown",
   "metadata": {},
   "source": [
    "# MFCC"
   ]
  },
  {
   "cell_type": "code",
   "execution_count": null,
   "metadata": {
    "id": "W6PjerFRocFu"
   },
   "outputs": [],
   "source": [
    "import numpy as np\n",
    "import librosa, librosa.display\n",
    "import matplotlib.pyplot as plt\n",
    "import json\n",
    "import os\n",
    "import math\n",
    "\n",
    "from sklearn.model_selection import train_test_split\n",
    "import tensorflow.keras as keras\n",
    "\n",
    "import matplotlib.pyplot as plt"
   ]
  },
  {
   "cell_type": "code",
   "execution_count": null,
   "metadata": {},
   "outputs": [],
   "source": [
    "DATASET_PATH = \"sound - robot\"\n",
    "JSON_PATH = \"model_robot/data_sound.json\"\n",
    "SAMPLE_RATE = 16000\n",
    "TRACK_DURATION = 1 # measured in seconds\n",
    "SAMPLES_PER_TRACK = SAMPLE_RATE * TRACK_DURATION"
   ]
  },
  {
   "cell_type": "code",
   "execution_count": null,
   "metadata": {},
   "outputs": [],
   "source": [
    "train_audio_path = r'G:\\Python\\Lenh_dieu_khien\\sound - robot'\n",
    "labels=os.listdir(train_audio_path)"
   ]
  },
  {
   "cell_type": "code",
   "execution_count": null,
   "metadata": {},
   "outputs": [],
   "source": [
    "def save_mfcc(dataset_path, json_path, num_mfcc=13, n_fft=2048, hop_length=512):\n",
    "    \"\"\"Extracts MFCCs from music dataset and saves them into a json file along with genre labels.\n",
    "        \"\"\"\n",
    "\n",
    "    # dictionary to store mapping, labels, and MFCCs\n",
    "    data = {\n",
    "        \"mapping\": [],\n",
    "        \"labels\": [],\n",
    "        \"mfcc\": []\n",
    "    }\n",
    "\n",
    "    samples_per_segment = int(SAMPLES_PER_TRACK)\n",
    "    num_mfcc_vectors_per_segment = math.ceil(samples_per_segment / hop_length)\n",
    "\n",
    "    for i, (dirpath, dirnames, filenames) in enumerate(os.walk(dataset_path)):\n",
    "\n",
    "        if dirpath is not dataset_path:\n",
    "\n",
    "            semantic_label = dirpath.split(\"/\")[-1]\n",
    "            data[\"mapping\"].append(semantic_label)\n",
    "            print(\"\\nProcessing: {}\".format(semantic_label))\n",
    "\n",
    "            for f in filenames:\n",
    "                file_path = os.path.join(dirpath, f)\n",
    "                signal, sample_rate = librosa.load(file_path, sr=SAMPLE_RATE)\n",
    "\n",
    "                mfcc = librosa.feature.mfcc(signal, sample_rate, n_mfcc=num_mfcc, n_fft=n_fft, hop_length=hop_length)\n",
    "                mfcc = mfcc.T\n",
    "\n",
    "                if len(mfcc) == num_mfcc_vectors_per_segment:\n",
    "                    data[\"mfcc\"].append(mfcc.tolist())\n",
    "                    data[\"labels\"].append(i-1)\n",
    "                    print(\"{}\".format(file_path))\n",
    "\n",
    "    with open(json_path, \"w\") as fp:\n",
    "        json.dump(data, fp, indent=4)"
   ]
  },
  {
   "cell_type": "code",
   "execution_count": null,
   "metadata": {},
   "outputs": [],
   "source": [
    "save_mfcc(DATASET_PATH, JSON_PATH)"
   ]
  },
  {
   "cell_type": "markdown",
   "metadata": {},
   "source": [
    "# Data Load"
   ]
  },
  {
   "cell_type": "code",
   "execution_count": null,
   "metadata": {},
   "outputs": [],
   "source": [
    "import json\n",
    "import numpy as np\n",
    "from sklearn.model_selection import train_test_split\n",
    "import tensorflow.keras as keras\n",
    "import matplotlib.pyplot as plt"
   ]
  },
  {
   "cell_type": "code",
   "execution_count": null,
   "metadata": {},
   "outputs": [],
   "source": [
    "DATA_PATH = \"model_robot/data_sound.json\""
   ]
  },
  {
   "cell_type": "code",
   "execution_count": null,
   "metadata": {},
   "outputs": [],
   "source": [
    "def load_data(data_path):\n",
    "\n",
    "    with open(data_path, \"r\") as f:\n",
    "        data = json.load(f)\n",
    "\n",
    "    # convert lists to numpy arrays\n",
    "    X = np.array(data[\"mfcc\"])\n",
    "    y = np.array(data[\"labels\"])\n",
    "\n",
    "    print(\"Data succesfully loaded!\")\n",
    "\n",
    "    return  X, y"
   ]
  },
  {
   "cell_type": "markdown",
   "metadata": {
    "id": "PSLoURAr0Khh"
   },
   "source": [
    "# Conv2D"
   ]
  },
  {
   "cell_type": "code",
   "execution_count": null,
   "metadata": {},
   "outputs": [],
   "source": [
    "X, y = load_data(DATA_PATH)"
   ]
  },
  {
   "cell_type": "code",
   "execution_count": null,
   "metadata": {},
   "outputs": [],
   "source": [
    "# create train, validation and test split\n",
    "X_train, X_test, y_train, y_test = train_test_split(X, y, test_size=0.2)\n",
    "X_train, X_validation, y_train, y_validation = train_test_split(X_train, y_train, test_size=0.2)\n",
    "\n",
    "# add an axis to input sets\n",
    "X_train = X_train[..., np.newaxis]\n",
    "X_validation = X_validation[..., np.newaxis]\n",
    "X_test = X_test[..., np.newaxis]"
   ]
  },
  {
   "cell_type": "code",
   "execution_count": null,
   "metadata": {},
   "outputs": [],
   "source": [
    "input_shape = (X_train.shape[1], X_train.shape[2], 1)"
   ]
  },
  {
   "cell_type": "code",
   "execution_count": 320,
   "metadata": {},
   "outputs": [],
   "source": [
    "# build the CNN\n",
    "model_cnn = keras.Sequential()\n",
    "\n",
    "model_cnn.add(keras.layers.Conv2D(4, (2, 2), activation='relu', input_shape=input_shape))\n",
    "model_cnn.add(keras.layers.Conv2D(4, (3, 3), activation='relu'))\n",
    "model_cnn.add(keras.layers.Flatten())\n",
    "\n",
    "model_cnn.add(keras.layers.Dense(16, activation='relu'))\n",
    "model_cnn.add(keras.layers.Dropout(0.3))\n",
    "\n",
    "model_cnn.add(keras.layers.Dense(4, activation='softmax'))"
   ]
  },
  {
   "cell_type": "code",
   "execution_count": 321,
   "metadata": {},
   "outputs": [],
   "source": [
    "# compile model\n",
    "optimiser = keras.optimizers.Adam(learning_rate=0.0001)\n",
    "model_cnn.compile(optimizer=optimiser,\n",
    "              loss='sparse_categorical_crossentropy',\n",
    "              metrics=['accuracy'])"
   ]
  },
  {
   "cell_type": "code",
   "execution_count": 322,
   "metadata": {},
   "outputs": [
    {
     "name": "stdout",
     "output_type": "stream",
     "text": [
      "Model: \"sequential_24\"\n",
      "_________________________________________________________________\n",
      "Layer (type)                 Output Shape              Param #   \n",
      "=================================================================\n",
      "conv2d_48 (Conv2D)           (None, 31, 12, 4)         20        \n",
      "_________________________________________________________________\n",
      "conv2d_49 (Conv2D)           (None, 29, 10, 4)         148       \n",
      "_________________________________________________________________\n",
      "flatten_24 (Flatten)         (None, 1160)              0         \n",
      "_________________________________________________________________\n",
      "dense_48 (Dense)             (None, 16)                18576     \n",
      "_________________________________________________________________\n",
      "dropout_24 (Dropout)         (None, 16)                0         \n",
      "_________________________________________________________________\n",
      "dense_49 (Dense)             (None, 4)                 68        \n",
      "=================================================================\n",
      "Total params: 18,812\n",
      "Trainable params: 18,812\n",
      "Non-trainable params: 0\n",
      "_________________________________________________________________\n"
     ]
    }
   ],
   "source": [
    "model_cnn.summary()"
   ]
  },
  {
   "cell_type": "code",
   "execution_count": 323,
   "metadata": {
    "scrolled": true
   },
   "outputs": [
    {
     "name": "stdout",
     "output_type": "stream",
     "text": [
      "Epoch 1/50\n",
      "8/8 [==============================] - 0s 25ms/step - loss: 12.7397 - accuracy: 0.3042 - val_loss: 11.0146 - val_accuracy: 0.2344\n",
      "Epoch 2/50\n",
      "8/8 [==============================] - 0s 8ms/step - loss: 9.1592 - accuracy: 0.2627 - val_loss: 8.3709 - val_accuracy: 0.2188\n",
      "Epoch 3/50\n",
      "8/8 [==============================] - 0s 8ms/step - loss: 7.0157 - accuracy: 0.2836 - val_loss: 6.2949 - val_accuracy: 0.2500\n",
      "Epoch 4/50\n",
      "8/8 [==============================] - 0s 8ms/step - loss: 7.3119 - accuracy: 0.3144 - val_loss: 4.9414 - val_accuracy: 0.2656\n",
      "Epoch 5/50\n",
      "8/8 [==============================] - 0s 8ms/step - loss: 6.1500 - accuracy: 0.2782 - val_loss: 4.0299 - val_accuracy: 0.2812\n",
      "Epoch 6/50\n",
      "8/8 [==============================] - 0s 8ms/step - loss: 5.2295 - accuracy: 0.2912 - val_loss: 3.5499 - val_accuracy: 0.2969\n",
      "Epoch 7/50\n",
      "8/8 [==============================] - 0s 8ms/step - loss: 4.2471 - accuracy: 0.3108 - val_loss: 3.1779 - val_accuracy: 0.3281\n",
      "Epoch 8/50\n",
      "8/8 [==============================] - 0s 8ms/step - loss: 4.0288 - accuracy: 0.3677 - val_loss: 2.8733 - val_accuracy: 0.3750\n",
      "Epoch 9/50\n",
      "8/8 [==============================] - 0s 8ms/step - loss: 3.0755 - accuracy: 0.4017 - val_loss: 2.7738 - val_accuracy: 0.3750\n",
      "Epoch 10/50\n",
      "8/8 [==============================] - 0s 8ms/step - loss: 2.9448 - accuracy: 0.4123 - val_loss: 2.5974 - val_accuracy: 0.3906\n",
      "Epoch 11/50\n",
      "8/8 [==============================] - 0s 9ms/step - loss: 2.7633 - accuracy: 0.4307 - val_loss: 2.4164 - val_accuracy: 0.4375\n",
      "Epoch 12/50\n",
      "8/8 [==============================] - 0s 8ms/step - loss: 2.5568 - accuracy: 0.3859 - val_loss: 2.1662 - val_accuracy: 0.4375\n",
      "Epoch 13/50\n",
      "8/8 [==============================] - 0s 8ms/step - loss: 2.5600 - accuracy: 0.4434 - val_loss: 1.9749 - val_accuracy: 0.4688\n",
      "Epoch 14/50\n",
      "8/8 [==============================] - 0s 8ms/step - loss: 2.3734 - accuracy: 0.4866 - val_loss: 1.8971 - val_accuracy: 0.5000\n",
      "Epoch 15/50\n",
      "8/8 [==============================] - 0s 8ms/step - loss: 1.9493 - accuracy: 0.4893 - val_loss: 1.7712 - val_accuracy: 0.5312\n",
      "Epoch 16/50\n",
      "8/8 [==============================] - 0s 8ms/step - loss: 1.7012 - accuracy: 0.5694 - val_loss: 1.6542 - val_accuracy: 0.5156\n",
      "Epoch 17/50\n",
      "8/8 [==============================] - 0s 8ms/step - loss: 1.5482 - accuracy: 0.6104 - val_loss: 1.5620 - val_accuracy: 0.5312\n",
      "Epoch 18/50\n",
      "8/8 [==============================] - 0s 8ms/step - loss: 1.7150 - accuracy: 0.5516 - val_loss: 1.4643 - val_accuracy: 0.5625\n",
      "Epoch 19/50\n",
      "8/8 [==============================] - 0s 8ms/step - loss: 1.7251 - accuracy: 0.5538 - val_loss: 1.3901 - val_accuracy: 0.5625\n",
      "Epoch 20/50\n",
      "8/8 [==============================] - 0s 8ms/step - loss: 1.4308 - accuracy: 0.6134 - val_loss: 1.3285 - val_accuracy: 0.6094\n",
      "Epoch 21/50\n",
      "8/8 [==============================] - 0s 8ms/step - loss: 1.1650 - accuracy: 0.6034 - val_loss: 1.2754 - val_accuracy: 0.6562\n",
      "Epoch 22/50\n",
      "8/8 [==============================] - 0s 8ms/step - loss: 1.1252 - accuracy: 0.6443 - val_loss: 1.2247 - val_accuracy: 0.6562\n",
      "Epoch 23/50\n",
      "8/8 [==============================] - 0s 8ms/step - loss: 1.3365 - accuracy: 0.6680 - val_loss: 1.1992 - val_accuracy: 0.6562\n",
      "Epoch 24/50\n",
      "8/8 [==============================] - 0s 8ms/step - loss: 0.9768 - accuracy: 0.6524 - val_loss: 1.1391 - val_accuracy: 0.6719\n",
      "Epoch 25/50\n",
      "8/8 [==============================] - 0s 8ms/step - loss: 0.9177 - accuracy: 0.6711 - val_loss: 1.1030 - val_accuracy: 0.6719\n",
      "Epoch 26/50\n",
      "8/8 [==============================] - 0s 8ms/step - loss: 1.0008 - accuracy: 0.6435 - val_loss: 1.0613 - val_accuracy: 0.6562\n",
      "Epoch 27/50\n",
      "8/8 [==============================] - 0s 8ms/step - loss: 0.8237 - accuracy: 0.7012 - val_loss: 1.0166 - val_accuracy: 0.6562\n",
      "Epoch 28/50\n",
      "8/8 [==============================] - 0s 8ms/step - loss: 0.7894 - accuracy: 0.6815 - val_loss: 0.9820 - val_accuracy: 0.6719\n",
      "Epoch 29/50\n",
      "8/8 [==============================] - 0s 8ms/step - loss: 0.7843 - accuracy: 0.7560 - val_loss: 0.9598 - val_accuracy: 0.6719\n",
      "Epoch 30/50\n",
      "8/8 [==============================] - 0s 8ms/step - loss: 0.9243 - accuracy: 0.6522 - val_loss: 0.9302 - val_accuracy: 0.6719\n",
      "Epoch 31/50\n",
      "8/8 [==============================] - 0s 8ms/step - loss: 0.6000 - accuracy: 0.8053 - val_loss: 0.9045 - val_accuracy: 0.6719\n",
      "Epoch 32/50\n",
      "8/8 [==============================] - 0s 8ms/step - loss: 0.8174 - accuracy: 0.7394 - val_loss: 0.8821 - val_accuracy: 0.6875\n",
      "Epoch 33/50\n",
      "8/8 [==============================] - 0s 8ms/step - loss: 0.6762 - accuracy: 0.7576 - val_loss: 0.8728 - val_accuracy: 0.7188\n",
      "Epoch 34/50\n",
      "8/8 [==============================] - 0s 8ms/step - loss: 0.6875 - accuracy: 0.7606 - val_loss: 0.8664 - val_accuracy: 0.7188\n",
      "Epoch 35/50\n",
      "8/8 [==============================] - 0s 8ms/step - loss: 0.7700 - accuracy: 0.7237 - val_loss: 0.8546 - val_accuracy: 0.7188\n",
      "Epoch 36/50\n",
      "8/8 [==============================] - 0s 12ms/step - loss: 0.6704 - accuracy: 0.7121 - val_loss: 0.8439 - val_accuracy: 0.7188\n",
      "Epoch 37/50\n",
      "8/8 [==============================] - 0s 8ms/step - loss: 0.7087 - accuracy: 0.7407 - val_loss: 0.8342 - val_accuracy: 0.7188\n",
      "Epoch 38/50\n",
      "8/8 [==============================] - 0s 8ms/step - loss: 0.7302 - accuracy: 0.7325 - val_loss: 0.8354 - val_accuracy: 0.7188\n",
      "Epoch 39/50\n",
      "8/8 [==============================] - 0s 8ms/step - loss: 0.6185 - accuracy: 0.7931 - val_loss: 0.8292 - val_accuracy: 0.7188\n",
      "Epoch 40/50\n",
      "8/8 [==============================] - 0s 7ms/step - loss: 0.5613 - accuracy: 0.7711 - val_loss: 0.8067 - val_accuracy: 0.7500\n",
      "Epoch 41/50\n",
      "8/8 [==============================] - 0s 17ms/step - loss: 0.4752 - accuracy: 0.8475 - val_loss: 0.7871 - val_accuracy: 0.7500\n",
      "Epoch 42/50\n",
      "8/8 [==============================] - 0s 9ms/step - loss: 0.5275 - accuracy: 0.7873 - val_loss: 0.7727 - val_accuracy: 0.7500\n",
      "Epoch 43/50\n",
      "8/8 [==============================] - 0s 7ms/step - loss: 0.5471 - accuracy: 0.8068 - val_loss: 0.7614 - val_accuracy: 0.7500\n",
      "Epoch 44/50\n",
      "8/8 [==============================] - 0s 8ms/step - loss: 0.5964 - accuracy: 0.8079 - val_loss: 0.7556 - val_accuracy: 0.7500\n",
      "Epoch 45/50\n",
      "8/8 [==============================] - 0s 8ms/step - loss: 0.5418 - accuracy: 0.7700 - val_loss: 0.7506 - val_accuracy: 0.7500\n",
      "Epoch 46/50\n",
      "8/8 [==============================] - 0s 8ms/step - loss: 0.5613 - accuracy: 0.7821 - val_loss: 0.7491 - val_accuracy: 0.7656\n",
      "Epoch 47/50\n",
      "8/8 [==============================] - 0s 9ms/step - loss: 0.5153 - accuracy: 0.8121 - val_loss: 0.7381 - val_accuracy: 0.7656\n",
      "Epoch 48/50\n",
      "8/8 [==============================] - 0s 8ms/step - loss: 0.4943 - accuracy: 0.8177 - val_loss: 0.7180 - val_accuracy: 0.7656\n",
      "Epoch 49/50\n",
      "8/8 [==============================] - 0s 8ms/step - loss: 0.4308 - accuracy: 0.8361 - val_loss: 0.6994 - val_accuracy: 0.7656\n",
      "Epoch 50/50\n",
      "8/8 [==============================] - 0s 8ms/step - loss: 0.4917 - accuracy: 0.8269 - val_loss: 0.6876 - val_accuracy: 0.7656\n"
     ]
    }
   ],
   "source": [
    "# train model\n",
    "history = model_cnn.fit(X_train, y_train, validation_data=(X_validation, y_validation), batch_size=32, epochs=50)"
   ]
  },
  {
   "cell_type": "code",
   "execution_count": 324,
   "metadata": {},
   "outputs": [],
   "source": [
    "def plot_history(history):\n",
    "\n",
    "    fig, axs = plt.subplots(2)\n",
    "\n",
    "    # create accuracy sublpot\n",
    "    axs[0].plot(history.history[\"accuracy\"], label=\"train accuracy\")\n",
    "    axs[0].plot(history.history[\"val_accuracy\"], label=\"test accuracy\")\n",
    "    axs[0].set_ylabel(\"Accuracy\")\n",
    "    axs[0].legend(loc=\"lower right\")\n",
    "    axs[0].set_title(\"Accuracy eval\")\n",
    "\n",
    "    # create error sublpot\n",
    "    axs[1].plot(history.history[\"loss\"], label=\"train error\")\n",
    "    axs[1].plot(history.history[\"val_loss\"], label=\"test error\")\n",
    "    axs[1].set_ylabel(\"Error\")\n",
    "    axs[1].set_xlabel(\"Epoch\")\n",
    "    axs[1].legend(loc=\"upper right\")\n",
    "    axs[1].set_title(\"Error eval\")\n",
    "    \n",
    "    plt.savefig('plot.png')\n",
    "    plt.show()"
   ]
  },
  {
   "cell_type": "code",
   "execution_count": 325,
   "metadata": {},
   "outputs": [
    {
     "data": {
      "image/png": "[encoded data removed]",
      "text/plain": [
       "<Figure size 432x288 with 2 Axes>"
      ]
     },
     "metadata": {
      "needs_background": "light"
     },
     "output_type": "display_data"
    }
   ],
   "source": [
    "# plot accuracy and error as a function of the epochs\n",
    "plot_history(history)"
   ]
  },
  {
   "cell_type": "code",
   "execution_count": 326,
   "metadata": {},
   "outputs": [
    {
     "name": "stdout",
     "output_type": "stream",
     "text": [
      "3/3 - 0s - loss: 0.4105 - accuracy: 0.9000\n",
      "\n",
      "Test accuracy: 0.8999999761581421\n"
     ]
    }
   ],
   "source": [
    "# evaluate model on Test Set\n",
    "test_loss, test_acc = model_cnn.evaluate(X_test, y_test, verbose=2)\n",
    "print('\\nTest accuracy:', test_acc)"
   ]
  },
  {
   "cell_type": "code",
   "execution_count": 327,
   "metadata": {},
   "outputs": [
    {
     "name": "stdout",
     "output_type": "stream",
     "text": [
      "WARNING:tensorflow:5 out of the last 13 calls to <function Model.make_predict_function.<locals>.predict_function at 0x000001ED8970F940> triggered tf.function retracing. Tracing is expensive and the excessive number of tracings could be due to (1) creating @tf.function repeatedly in a loop, (2) passing tensors with different shapes, (3) passing Python objects instead of tensors. For (1), please define your @tf.function outside of the loop. For (2), @tf.function has experimental_relax_shapes=True option that relaxes argument shapes that can avoid unnecessary retracing. For (3), please refer to https://www.tensorflow.org/guide/function#controlling_retracing and https://www.tensorflow.org/api_docs/python/tf/function for  more details.\n"
     ]
    }
   ],
   "source": [
    "yhat_classes = model_cnn.predict_classes(X_test, verbose=0)"
   ]
  },
  {
   "cell_type": "code",
   "execution_count": 328,
   "metadata": {},
   "outputs": [],
   "source": [
    "from sklearn.metrics import accuracy_score\n",
    "from sklearn.metrics import precision_score\n",
    "from sklearn.metrics import recall_score\n",
    "from sklearn.metrics import f1_score"
   ]
  },
  {
   "cell_type": "code",
   "execution_count": 329,
   "metadata": {},
   "outputs": [
    {
     "name": "stdout",
     "output_type": "stream",
     "text": [
      "Accuracy: 0.900000\n",
      "Precision: 0.901064\n",
      "Recall: 0.900000\n",
      "F1 score: 0.899940\n"
     ]
    }
   ],
   "source": [
    "# accuracy: (tp + tn) / (p + n)\n",
    "accuracy = accuracy_score(y_test, yhat_classes)\n",
    "print('Accuracy: %f' % accuracy)\n",
    "# precision tp / (tp + fp)\n",
    "precision = precision_score(y_test, yhat_classes, average='weighted')\n",
    "print('Precision: %f' % precision)\n",
    "# recall: tp / (tp + fn)\n",
    "recall = recall_score(y_test, yhat_classes, average='weighted')\n",
    "print('Recall: %f' % recall)\n",
    "# f1: 2 tp / (2 tp + fp + fn)\n",
    "f1 = f1_score(y_test, yhat_classes, average='weighted')\n",
    "print('F1 score: %f' % f1)"
   ]
  },
  {
   "cell_type": "code",
   "execution_count": 330,
   "metadata": {},
   "outputs": [],
   "source": [
    "model_cnn.save(\"model_sum/MFCC_CNN.h5\")"
   ]
  }
 ],
 "metadata": {
  "colab": {
   "collapsed_sections": [],
   "name": "Music Genre Classification #1.ipynb",
   "provenance": []
  },
  "kernelspec": {
   "display_name": "Python 3",
   "language": "python",
   "name": "python3"
  },
  "language_info": {
   "codemirror_mode": {
    "name": "ipython",
    "version": 3
   },
   "file_extension": ".py",
   "mimetype": "text/x-python",
   "name": "python",
   "nbconvert_exporter": "python",
   "pygments_lexer": "ipython3",
   "version": "3.8.5"
  }
 },
 "nbformat": 4,
 "nbformat_minor": 1
}
