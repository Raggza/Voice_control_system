{
 "cells": [
  {
   "cell_type": "code",
   "execution_count": 1,
   "metadata": {},
   "outputs": [
    {
     "name": "stderr",
     "output_type": "stream",
     "text": [
      "d:\\MiniConda\\envs\\tf\\lib\\site-packages\\tqdm\\auto.py:21: TqdmWarning: IProgress not found. Please update jupyter and ipywidgets. See https://ipywidgets.readthedocs.io/en/stable/user_install.html\n",
      "  from .autonotebook import tqdm as notebook_tqdm\n"
     ]
    }
   ],
   "source": [
    "import os\n",
    "import wave\n",
    "import struct\n",
    "import threading\n",
    "import torch\n",
    "import librosa\n",
    "import tkinter as tk\n",
    "\n",
    "from pydub import AudioSegment\n",
    "from pvrecorder import PvRecorder\n",
    "from pydub.silence import split_on_silence\n",
    "from transformers import Wav2Vec2Tokenizer, Wav2Vec2ForCTC\n"
   ]
  },
  {
   "cell_type": "code",
   "execution_count": 2,
   "metadata": {},
   "outputs": [],
   "source": [
    "file_path = r'C:/Users/HI/Desktop/Wave2Text/new_file'\n",
    "if not os.path.exists(file_path):\n",
    "    os.makedirs(file_path)"
   ]
  },
  {
   "cell_type": "code",
   "execution_count": 3,
   "metadata": {},
   "outputs": [
    {
     "name": "stderr",
     "output_type": "stream",
     "text": [
      "The tokenizer class you load from this checkpoint is not the same type as the class this function is called from. It may result in unexpected tokenization. \n",
      "The tokenizer class you load from this checkpoint is 'Wav2Vec2CTCTokenizer'. \n",
      "The class this function is called from is 'Wav2Vec2Tokenizer'.\n",
      "d:\\MiniConda\\envs\\tf\\lib\\site-packages\\transformers\\models\\wav2vec2\\tokenization_wav2vec2.py:792: FutureWarning: The class `Wav2Vec2Tokenizer` is deprecated and will be removed in version 5 of Transformers. Please use `Wav2Vec2Processor` or `Wav2Vec2CTCTokenizer` instead.\n",
      "  warnings.warn(\n",
      "Special tokens have been added in the vocabulary, make sure the associated word embeddings are fine-tuned or trained.\n",
      "d:\\MiniConda\\envs\\tf\\lib\\site-packages\\transformers\\configuration_utils.py:380: UserWarning: Passing `gradient_checkpointing` to a config initialization is deprecated and will be removed in v5 Transformers. Using `model.gradient_checkpointing_enable()` instead, or if you are using the `Trainer` API, pass `gradient_checkpointing=True` in your `TrainingArguments`.\n",
      "  warnings.warn(\n"
     ]
    }
   ],
   "source": [
    "tokenizer = Wav2Vec2Tokenizer.from_pretrained(\"nguyenvulebinh/wav2vec2-base-vietnamese-250h\")\n",
    "model = Wav2Vec2ForCTC.from_pretrained(\"nguyenvulebinh/wav2vec2-base-vietnamese-250h\")"
   ]
  },
  {
   "cell_type": "code",
   "execution_count": 4,
   "metadata": {},
   "outputs": [
    {
     "name": "stdout",
     "output_type": "stream",
     "text": [
      "All files deleted successfully.\n",
      "All files deleted successfully.\n",
      "All files deleted successfully.\n",
      "All files deleted successfully.\n",
      "All files deleted successfully.\n",
      "All files deleted successfully.\n",
      "All files deleted successfully.\n",
      "All files deleted successfully.\n",
      "All files deleted successfully.\n"
     ]
    },
    {
     "data": {
      "text/plain": [
       "<__main__.VoiceRecorder at 0x282dd6a6b50>"
      ]
     },
     "execution_count": 4,
     "metadata": {},
     "output_type": "execute_result"
    }
   ],
   "source": [
    "class VoiceRecorder:\n",
    "    \n",
    "    def __init__(self):\n",
    "        self.root = tk.Tk()\n",
    "        self.root.resizable(False, False)\n",
    "        self.button = tk.Button(text = \"🎤\", font = (\"Arial\", 120, \"bold\"), command = self.click_handler)\n",
    "        self.button.pack()\n",
    "        self.output = tk.Text(self.root, height = 5, width = 41,)\n",
    "        self.output.pack()\n",
    "        self.recording = False\n",
    "        self.root.mainloop()\n",
    "    \n",
    "    def click_handler(self):\n",
    "        if self.recording:\n",
    "            self.recording = False\n",
    "            self.button.config(fg = \"black\")\n",
    "        else:\n",
    "            self.recording = True\n",
    "            self.button.config(fg = \"red\")\n",
    "            threading.Thread(target = self.record).start()\n",
    "            \n",
    "    \n",
    "    def delete_files_in_directory(self, directory_path):\n",
    "        try:\n",
    "            files = os.listdir(directory_path)\n",
    "            for file in files:\n",
    "                file_path = os.path.join(directory_path, file)\n",
    "                if os.path.isfile(file_path):\n",
    "                    os.remove(file_path)\n",
    "            print(\"All files deleted successfully.\")\n",
    "        except OSError:\n",
    "            print(\"Error occurred while deleting files.\")\n",
    "\n",
    "    def speech2text(self, directory_path):\n",
    "        data, _ = librosa.load(directory_path, sr=16000)\n",
    "        input_values = tokenizer(data, return_tensors = \"pt\").input_values\n",
    "        logits = model(input_values).logits\n",
    "        prediction = torch.argmax(logits, dim = -1)\n",
    "        transcription = tokenizer.batch_decode(prediction)[0]\n",
    "\n",
    "        return transcription\n",
    "    def record(self):\n",
    "        recorder = PvRecorder(device_index=0, frame_length=512)\n",
    "        audio = []\n",
    "        \n",
    "        recorder.start()\n",
    "        \n",
    "        while self.recording:\n",
    "            frame = recorder.read()\n",
    "            audio.extend(frame)\n",
    "        \n",
    "        recorder.stop()\n",
    "        with wave.open(file_path + '\\sound.wav', 'w') as f:\n",
    "            f.setparams((1, 2, 16000, 512, \"NONE\", \"NONE\"))\n",
    "            f.writeframes(struct.pack(\"h\" * len(audio), *audio))\n",
    "        \n",
    "        transcription = self.speech2text(file_path+\"\\sound.wav\")\n",
    "        \n",
    "        self.output.insert(\"1.0\", transcription + '\\n')\n",
    "        self.delete_files_in_directory(file_path)\n",
    "        recorder.delete()\n",
    "\n",
    "VoiceRecorder()"
   ]
  }
 ],
 "metadata": {
  "kernelspec": {
   "display_name": "tf",
   "language": "python",
   "name": "python3"
  },
  "language_info": {
   "codemirror_mode": {
    "name": "ipython",
    "version": 3
   },
   "file_extension": ".py",
   "mimetype": "text/x-python",
   "name": "python",
   "nbconvert_exporter": "python",
   "pygments_lexer": "ipython3",
   "version": "3.9.17"
  },
  "orig_nbformat": 4
 },
 "nbformat": 4,
 "nbformat_minor": 2
}
