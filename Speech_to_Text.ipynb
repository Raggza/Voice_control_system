{
 "cells": [
  {
   "cell_type": "code",
   "execution_count": 1,
   "metadata": {},
   "outputs": [],
   "source": [
    "import os\n",
    "import math\n",
    "import librosa\n",
    "import numpy as np\n",
    "import tensorflow.keras as keras\n",
    "from pvrecorder import PvRecorder\n",
    "import struct\n",
    "import wave\n",
    "from pydub import AudioSegment\n",
    "from pydub.silence import split_on_silence"
   ]
  },
  {
   "cell_type": "code",
   "execution_count": 2,
   "metadata": {},
   "outputs": [],
   "source": [
    "AudioSegment.converter = 'ffmpeg.exe'\n",
    "AudioSegment.ffmpeg = 'ffmpeg.exe'\n",
    "AudioSegment.ffprobe = 'ffprobe.exe'"
   ]
  },
  {
   "cell_type": "code",
   "execution_count": 3,
   "metadata": {},
   "outputs": [],
   "source": [
    "word_dict = {0:\"lên\",1:\"phải\",2:\"trái\",3:\"xuống\"}"
   ]
  },
  {
   "cell_type": "code",
   "execution_count": 4,
   "metadata": {},
   "outputs": [],
   "source": [
    "def split_audio(wav_file):\n",
    "    file_path= r'G:\\Python\\Lenh_dieu_khien\\Audio_Mic\\Audio_Split'\n",
    "\n",
    "    sound_file = AudioSegment.from_wav(file_path + wav_file)\n",
    "    audio_chunks = split_on_silence(sound_file, min_silence_len=100, silence_thresh=-40)\n",
    "    length = 0\n",
    "\n",
    "    for i, chunk in enumerate(audio_chunks):\n",
    "        out_file = file_path + \"\\chunk{0}.wav\".format(i)\n",
    "        chunk.export(out_file, format=\"wav\")\n",
    "        length += 1\n",
    "    \n",
    "    return int(length)"
   ]
  },
  {
   "cell_type": "code",
   "execution_count": 5,
   "metadata": {},
   "outputs": [],
   "source": [
    "def edit_chunk(length):\n",
    "    start_time = 0\n",
    "    end_time = 1000\n",
    "\n",
    "    one_sec_segment = AudioSegment.silent(duration=1000)\n",
    "    for i in range(0, length):\n",
    "        song = AudioSegment.from_wav('Audio_Split' + '/' + 'chunk' + str(i) + '.wav')\n",
    "        final_song = song + one_sec_segment\n",
    "        final_song = final_song[start_time:end_time]\n",
    "        final_song.export('Audio_Split' + '/' + 'edit_chunk' + str(i) + '.wav')"
   ]
  },
  {
   "cell_type": "code",
   "execution_count": 6,
   "metadata": {},
   "outputs": [],
   "source": [
    "def process_input(audio_file):\n",
    "    SAMPLE_RATE = 16000\n",
    "    NUM_MFCC = 13\n",
    "    N_FTT=2048\n",
    "    HOP_LENGTH=512\n",
    "    TRACK_DURATION = 1 # measured in seconds\n",
    "    SAMPLES_PER_TRACK = SAMPLE_RATE * TRACK_DURATION\n",
    "\n",
    "    samples_per_segment = int(SAMPLES_PER_TRACK)\n",
    "\n",
    "    signal, sample_rate = librosa.load(audio_file, sr=SAMPLE_RATE)\n",
    "  \n",
    "    mfcc = librosa.feature.mfcc(signal, sample_rate, n_mfcc=NUM_MFCC, n_fft=N_FTT, hop_length=HOP_LENGTH)\n",
    "    mfcc = mfcc.T\n",
    "\n",
    "    return mfcc"
   ]
  },
  {
   "cell_type": "code",
   "execution_count": 7,
   "metadata": {},
   "outputs": [],
   "source": [
    "def delete_files_in_directory(directory_path):\n",
    "  try:\n",
    "    files = os.listdir(directory_path)\n",
    "    for file in files:\n",
    "        file_path = os.path.join(directory_path, file)\n",
    "        if os.path.isfile(file_path):\n",
    "          os.remove(file_path)\n",
    "    print(\"All files deleted successfully.\")\n",
    "  except OSError:\n",
    "    print(\"Error occurred while deleting files.\")"
   ]
  },
  {
   "cell_type": "code",
   "execution_count": 8,
   "metadata": {},
   "outputs": [],
   "source": [
    "def speech_to_text(length):\n",
    "    \n",
    "    stt = ''\n",
    "    \n",
    "    for i in range(0, length):\n",
    "        new_input_mfcc = process_input(r'G:\\Python\\Lenh_dieu_khien\\Audio_Mic\\Audio_Split\\edit_chunk' + str(i) + '.wav')\n",
    "    \n",
    "        X_to_predict = new_input_mfcc[np.newaxis, ..., np.newaxis]\n",
    "        X_to_predict.shape\n",
    "    \n",
    "        prediction = reconstructed_model.predict(X_to_predict)\n",
    "        predicted_index = np.argmax(prediction, axis=1)\n",
    "\n",
    "        #print(\"Predicted:\", word_dict[int(predicted_index)])\n",
    "        \n",
    "        stt += word_dict[int(predicted_index)] + ' '\n",
    "    return stt"
   ]
  },
  {
   "cell_type": "code",
   "execution_count": 9,
   "metadata": {},
   "outputs": [],
   "source": [
    "path = r'G:\\Python\\Lenh_dieu_khien\\model_robot'\n",
    "reconstructed_model = keras.models.load_model(path + \"\\Speech_to_Text.tf\")"
   ]
  },
  {
   "cell_type": "code",
   "execution_count": null,
   "metadata": {},
   "outputs": [],
   "source": [
    "import tkinter as tk\n",
    "import threading\n",
    "from denoise import AudioDeNoise\n",
    "\n",
    "file_path = r'G:\\Python\\Lenh_dieu_khien\\Audio_Mic\\Audio_Split'\n",
    "\n",
    "from socket import socket, AF_INET, SOCK_DGRAM\n",
    "\n",
    "SERVER_IP   = '192.168.1.102'\n",
    "PORT_NUMBER = 5000\n",
    "SIZE = 1024\n",
    "print (\"Test client sending packets to IP {0}, via port {1}\\n\".format(SERVER_IP, PORT_NUMBER))\n",
    "mySocket = socket( AF_INET, SOCK_DGRAM )\n",
    "huong_di_chuyen = None\n",
    "\n",
    "class VoiceRecorder:\n",
    "    \n",
    "    def __init__(self):\n",
    "        self.root = tk.Tk()\n",
    "        self.root.resizable(False, False)\n",
    "        self.button = tk.Button(text = \"🎤\", font = (\"Arial\", 120, \"bold\"), command = self.click_handler)\n",
    "        self.button.pack()\n",
    "        self.output = tk.Text(self.root, height = 5, width = 41,)\n",
    "        self.output.pack()\n",
    "        self.recording = False\n",
    "        self.root.mainloop()\n",
    "    \n",
    "    def click_handler(self):\n",
    "        if self.recording:\n",
    "            self.recording = False\n",
    "            self.button.config(fg = \"black\")\n",
    "        else:\n",
    "            self.recording = True\n",
    "            self.button.config(fg = \"red\")\n",
    "            threading.Thread(target = self.record).start()\n",
    "    \n",
    "    def record(self):\n",
    "        recorder = PvRecorder(device_index=-1, frame_length=512)\n",
    "        audio = []\n",
    "        \n",
    "        recorder.start()\n",
    "        \n",
    "        while self.recording:\n",
    "            frame = recorder.read()\n",
    "            audio.extend(frame)\n",
    "        \n",
    "        recorder.stop()\n",
    "        with wave.open(file_path + '\\sound.wav', 'w') as f:\n",
    "            f.setparams((1, 2, 16000, 512, \"NONE\", \"NONE\"))\n",
    "            f.writeframes(struct.pack(\"h\" * len(audio), *audio))\n",
    "\n",
    "        audioDenoiser = AudioDeNoise(inputFile=file_path + '\\sound.wav')\n",
    "        audioDenoiser.deNoise(outputFile=file_path + '\\sound_clear.wav')\n",
    "        \n",
    "        length = split_audio('\\sound_clear.wav')\n",
    "        edit_chunk(length)\n",
    "        stt = speech_to_text(length)\n",
    "        print(stt)\n",
    "        if stt in command:\n",
    "            if stt == 'lên':\n",
    "                huong_di_chuyen = 'lên'\n",
    "            elif stt == 'xuống':\n",
    "                huong_di_chuyen = 'xuống'\n",
    "            if (stt == 'trái' or stt == 'phải') and huong_di_chuyen != None:\n",
    "                mySocket.sendto(stt.encode('utf-8'),(SERVER_IP,PORT_NUMBER))\n",
    "                mySocket.sendto(huong_di_chuyen.encode('utf-8'),(SERVER_IP,PORT_NUMBER))\n",
    "            else:\n",
    "                mySocket.sendto(stt.encode('utf-8'),(SERVER_IP,PORT_NUMBER))\n",
    "            self.output.insert(\"1.0\", stt + '\\n')\n",
    "\n",
    "        self.delete_files_in_directory(file_path)\n",
    "        recorder.delete()\n",
    "        \n",
    "VoiceRecorder()"
   ]
  }
 ],
 "metadata": {
  "kernelspec": {
   "display_name": "Python 3",
   "language": "python",
   "name": "python3"
  },
  "language_info": {
   "codemirror_mode": {
    "name": "ipython",
    "version": 3
   },
   "file_extension": ".py",
   "mimetype": "text/x-python",
   "name": "python",
   "nbconvert_exporter": "python",
   "pygments_lexer": "ipython3",
   "version": "3.8.5"
  }
 },
 "nbformat": 4,
 "nbformat_minor": 4
}
